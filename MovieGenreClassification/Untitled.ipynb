{
 "cells": [
  {
   "cell_type": "markdown",
   "id": "2e21a355",
   "metadata": {},
   "source": [
    "Task 1: Movie Genre Classification"
   ]
  },
  {
   "cell_type": "markdown",
   "id": "9eb45bdb",
   "metadata": {},
   "source": [
    "We are creating machine learning model that can predict the genre of the mocie based on its plt summary or other textual information. \n",
    "We are going to use technique TF-IDF with Naive Bayes classifier"
   ]
  },
  {
   "cell_type": "markdown",
   "id": "2b803c70",
   "metadata": {},
   "source": [
    "Methodology:\n",
    "    1. Data Collection\n",
    "    2. Data Cleaning and preprocessing\n",
    "    3. Data Visualization\n",
    "    4. Feature Engineering\n",
    "    5. Model Selection & Training\n",
    "    6. Make Prediction of Test data"
   ]
  },
  {
   "cell_type": "code",
   "execution_count": 1,
   "id": "8e97a539",
   "metadata": {},
   "outputs": [],
   "source": [
    "# Importing Library\n",
    "import pandas as pd\n",
    "import matplotlib.pyplot as plt\n",
    "import numpy as np\n",
    "import seaborn as sns\n",
    "import string\n",
    "import re\n",
    "from nltk.corpus import stopwords\n",
    "from nltk.stem import LancasterStemmer\n",
    "from sklearn.feature_extraction.text import TfidfVectorizer\n",
    "from sklearn.model_selection import train_test_split\n",
    "from sklearn.naive_bayes import MultinomialNB\n",
    "from sklearn.metrics import accuracy_score, classification_report\n",
    "from wordcloud import WordCloud, ImageColorGenerator"
   ]
  },
  {
   "cell_type": "code",
   "execution_count": 2,
   "id": "4fe8a39e",
   "metadata": {},
   "outputs": [
    {
     "name": "stderr",
     "output_type": "stream",
     "text": [
      "[nltk_data] Downloading package punkt to\n",
      "[nltk_data]     C:\\Users\\sujal\\AppData\\Roaming\\nltk_data...\n",
      "[nltk_data]   Package punkt is already up-to-date!\n",
      "[nltk_data] Downloading package stopwords to\n",
      "[nltk_data]     C:\\Users\\sujal\\AppData\\Roaming\\nltk_data...\n",
      "[nltk_data]   Package stopwords is already up-to-date!\n",
      "[nltk_data] Downloading package wordnet to\n",
      "[nltk_data]     C:\\Users\\sujal\\AppData\\Roaming\\nltk_data...\n",
      "[nltk_data]   Package wordnet is already up-to-date!\n"
     ]
    },
    {
     "data": {
      "text/plain": [
       "True"
      ]
     },
     "execution_count": 2,
     "metadata": {},
     "output_type": "execute_result"
    }
   ],
   "source": [
    "import nltk\n",
    "import os\n",
    "\n",
    "# Set the custom download path for NLTK data\n",
    "custom_download_path = 'C:/Users/sujal/CodSoft/working'\n",
    "\n",
    "# Make sure the directory exists; if not, create it\n",
    "os.makedirs(custom_download_path, exist_ok=True)\n",
    "\n",
    "# Append the custom download path to NLTK data path\n",
    "nltk.data.path.append(custom_download_path)\n",
    "\n",
    "# Download NLTK resources to the custom path\n",
    "nltk.download('punkt')\n",
    "nltk.download('stopwords')\n",
    "nltk.download('wordnet')"
   ]
  },
  {
   "cell_type": "code",
   "execution_count": 3,
   "id": "a02349fb",
   "metadata": {},
   "outputs": [],
   "source": [
    "#Load dataset\n",
    "#Data Collection\n",
    "train_path = \"C:/Users/sujal/CodSoft/MovieGenreClassification/archive/Genre Classification Dataset/train_data.txt\"\n",
    "train_data = pd.read_csv(train_path, names=[\"id\",'Title', \"Genre\", \"Description\"], sep=\":::\", engine='python')\n",
    "#train_data1 = np.array(train_data)\n",
    "test_path = \"C:/Users/sujal/CodSoft/MovieGenreClassification/archive/Genre Classification Dataset/test_data.txt\"\n",
    "test_data = pd.read_csv(test_path, names=[\"id\",\"Genre\", \"Description\"], sep=\":::\", engine='python')\n",
    "test_data_solution = pd.read_csv(\"C:/Users/sujal/CodSoft/MovieGenreClassification/archive/Genre Classification Dataset/test_data_solution.txt\",\n",
    "                     names=[\"id\", \"Title\", \"Genre\", \"Description\"], sep= \":::\", engine= \"python\")"
   ]
  },
  {
   "cell_type": "code",
   "execution_count": 4,
   "id": "39397a50",
   "metadata": {},
   "outputs": [
    {
     "data": {
      "text/plain": [
       "54214"
      ]
     },
     "execution_count": 4,
     "metadata": {},
     "output_type": "execute_result"
    }
   ],
   "source": [
    "#train_data1.head()\n",
    "len(train_data)"
   ]
  },
  {
   "cell_type": "code",
   "execution_count": 5,
   "id": "37c05415",
   "metadata": {},
   "outputs": [
    {
     "data": {
      "text/html": [
       "<div>\n",
       "<style scoped>\n",
       "    .dataframe tbody tr th:only-of-type {\n",
       "        vertical-align: middle;\n",
       "    }\n",
       "\n",
       "    .dataframe tbody tr th {\n",
       "        vertical-align: top;\n",
       "    }\n",
       "\n",
       "    .dataframe thead th {\n",
       "        text-align: right;\n",
       "    }\n",
       "</style>\n",
       "<table border=\"1\" class=\"dataframe\">\n",
       "  <thead>\n",
       "    <tr style=\"text-align: right;\">\n",
       "      <th></th>\n",
       "      <th>id</th>\n",
       "      <th>Genre</th>\n",
       "      <th>Description</th>\n",
       "    </tr>\n",
       "  </thead>\n",
       "  <tbody>\n",
       "    <tr>\n",
       "      <th>0</th>\n",
       "      <td>1</td>\n",
       "      <td>Edgar's Lunch (1998)</td>\n",
       "      <td>L.R. Brane loves his life - his car, his apar...</td>\n",
       "    </tr>\n",
       "    <tr>\n",
       "      <th>1</th>\n",
       "      <td>2</td>\n",
       "      <td>La guerra de papá (1977)</td>\n",
       "      <td>Spain, March 1964: Quico is a very naughty ch...</td>\n",
       "    </tr>\n",
       "    <tr>\n",
       "      <th>2</th>\n",
       "      <td>3</td>\n",
       "      <td>Off the Beaten Track (2010)</td>\n",
       "      <td>One year in the life of Albin and his family ...</td>\n",
       "    </tr>\n",
       "    <tr>\n",
       "      <th>3</th>\n",
       "      <td>4</td>\n",
       "      <td>Meu Amigo Hindu (2015)</td>\n",
       "      <td>His father has died, he hasn't spoken with hi...</td>\n",
       "    </tr>\n",
       "    <tr>\n",
       "      <th>4</th>\n",
       "      <td>5</td>\n",
       "      <td>Er nu zhai (1955)</td>\n",
       "      <td>Before he was known internationally as a mart...</td>\n",
       "    </tr>\n",
       "  </tbody>\n",
       "</table>\n",
       "</div>"
      ],
      "text/plain": [
       "   id                          Genre  \\\n",
       "0   1          Edgar's Lunch (1998)    \n",
       "1   2      La guerra de papá (1977)    \n",
       "2   3   Off the Beaten Track (2010)    \n",
       "3   4        Meu Amigo Hindu (2015)    \n",
       "4   5             Er nu zhai (1955)    \n",
       "\n",
       "                                         Description  \n",
       "0   L.R. Brane loves his life - his car, his apar...  \n",
       "1   Spain, March 1964: Quico is a very naughty ch...  \n",
       "2   One year in the life of Albin and his family ...  \n",
       "3   His father has died, he hasn't spoken with hi...  \n",
       "4   Before he was known internationally as a mart...  "
      ]
     },
     "execution_count": 5,
     "metadata": {},
     "output_type": "execute_result"
    }
   ],
   "source": [
    "test_data.head()"
   ]
  },
  {
   "cell_type": "code",
   "execution_count": 6,
   "id": "c018ce58",
   "metadata": {},
   "outputs": [
    {
     "data": {
      "text/html": [
       "<div>\n",
       "<style scoped>\n",
       "    .dataframe tbody tr th:only-of-type {\n",
       "        vertical-align: middle;\n",
       "    }\n",
       "\n",
       "    .dataframe tbody tr th {\n",
       "        vertical-align: top;\n",
       "    }\n",
       "\n",
       "    .dataframe thead th {\n",
       "        text-align: right;\n",
       "    }\n",
       "</style>\n",
       "<table border=\"1\" class=\"dataframe\">\n",
       "  <thead>\n",
       "    <tr style=\"text-align: right;\">\n",
       "      <th></th>\n",
       "      <th>id</th>\n",
       "      <th>Title</th>\n",
       "      <th>Genre</th>\n",
       "      <th>Description</th>\n",
       "    </tr>\n",
       "  </thead>\n",
       "  <tbody>\n",
       "    <tr>\n",
       "      <th>0</th>\n",
       "      <td>1</td>\n",
       "      <td>Edgar's Lunch (1998)</td>\n",
       "      <td>thriller</td>\n",
       "      <td>L.R. Brane loves his life - his car, his apar...</td>\n",
       "    </tr>\n",
       "    <tr>\n",
       "      <th>1</th>\n",
       "      <td>2</td>\n",
       "      <td>La guerra de papá (1977)</td>\n",
       "      <td>comedy</td>\n",
       "      <td>Spain, March 1964: Quico is a very naughty ch...</td>\n",
       "    </tr>\n",
       "    <tr>\n",
       "      <th>2</th>\n",
       "      <td>3</td>\n",
       "      <td>Off the Beaten Track (2010)</td>\n",
       "      <td>documentary</td>\n",
       "      <td>One year in the life of Albin and his family ...</td>\n",
       "    </tr>\n",
       "    <tr>\n",
       "      <th>3</th>\n",
       "      <td>4</td>\n",
       "      <td>Meu Amigo Hindu (2015)</td>\n",
       "      <td>drama</td>\n",
       "      <td>His father has died, he hasn't spoken with hi...</td>\n",
       "    </tr>\n",
       "    <tr>\n",
       "      <th>4</th>\n",
       "      <td>5</td>\n",
       "      <td>Er nu zhai (1955)</td>\n",
       "      <td>drama</td>\n",
       "      <td>Before he was known internationally as a mart...</td>\n",
       "    </tr>\n",
       "  </tbody>\n",
       "</table>\n",
       "</div>"
      ],
      "text/plain": [
       "   id                          Title          Genre  \\\n",
       "0   1          Edgar's Lunch (1998)       thriller    \n",
       "1   2      La guerra de papá (1977)         comedy    \n",
       "2   3   Off the Beaten Track (2010)    documentary    \n",
       "3   4        Meu Amigo Hindu (2015)          drama    \n",
       "4   5             Er nu zhai (1955)          drama    \n",
       "\n",
       "                                         Description  \n",
       "0   L.R. Brane loves his life - his car, his apar...  \n",
       "1   Spain, March 1964: Quico is a very naughty ch...  \n",
       "2   One year in the life of Albin and his family ...  \n",
       "3   His father has died, he hasn't spoken with hi...  \n",
       "4   Before he was known internationally as a mart...  "
      ]
     },
     "execution_count": 6,
     "metadata": {},
     "output_type": "execute_result"
    }
   ],
   "source": [
    "test_data_solution.head()"
   ]
  },
  {
   "cell_type": "code",
   "execution_count": 7,
   "id": "8aa2141d",
   "metadata": {},
   "outputs": [
    {
     "name": "stdout",
     "output_type": "stream",
     "text": [
      "id             0\n",
      "Title          0\n",
      "Genre          0\n",
      "Description    0\n",
      "dtype: int64\n"
     ]
    }
   ],
   "source": [
    "print(train_data.isnull().sum())\n"
   ]
  },
  {
   "cell_type": "code",
   "execution_count": 8,
   "id": "5c3fa9e7",
   "metadata": {},
   "outputs": [],
   "source": [
    "#data cleaning and preprocessing\n",
    "\n",
    "#initialize stemmer and stopwords\n",
    "stemmer = LancasterStemmer()\n",
    "stop_words = set(stopwords.words(\"english\"))\n",
    "\n",
    "#function to preprocess the data\n",
    "def preprocessing(text):\n",
    "    text = text.lower()   #converting into lowercase\n",
    "    text = re.sub(r'@\\S+','',text)   #remove twitter handles\n",
    "    text = re.sub(r'http\\S+','', text) # remove url\n",
    "    text = re.sub(r'pic.\\S+', '', text)\n",
    "    text = re.sub(r\"[^a-zA-Z+']\", ' ', text)  # Keep only characters\n",
    "    text = re.sub(r'\\s+[a-zA-Z]\\s+', ' ', text + ' ')  # Keep words with length > 1 only\n",
    "    text = \"\".join([i for i in text if i not in string.punctuation])\n",
    "    words = nltk.word_tokenize(text)\n",
    "    stopwords = nltk.corpus.stopwords.words('english')  # Remove stopwords\n",
    "    text = \" \".join([i for i in words if i not in stopwords])\n",
    "    text = re.sub(\"\\s[\\s]+\", \" \", text).strip()  # Remove repeated/leading/trailing spaces\n",
    "    return text\n",
    "                     \n",
    "                     "
   ]
  },
  {
   "cell_type": "code",
   "execution_count": 9,
   "id": "52593473",
   "metadata": {},
   "outputs": [],
   "source": [
    "train_data[\"Text_Cleaning\"] = train_data[\"Description\"].apply(preprocessing)\n",
    "test_data[\"Text_Cleaning\"] = test_data[\"Description\"].apply(preprocessing)"
   ]
  },
  {
   "cell_type": "code",
   "execution_count": 10,
   "id": "62dc9aa7",
   "metadata": {},
   "outputs": [
    {
     "data": {
      "image/png": "[encoded data removed]",
      "text/plain": [
       "<Figure size 576x504 with 1 Axes>"
      ]
     },
     "metadata": {
      "needs_background": "light"
     },
     "output_type": "display_data"
    }
   ],
   "source": [
    "# Calculate the length of cleaned text\n",
    "train_data['length_Text_Cleaning'] = train_data['Text_Cleaning'].apply(len)\n",
    "# Visualize the distribution of text lengths\n",
    "plt.figure(figsize=(8, 7))\n",
    "sns.histplot(data=train_data, x='length_Text_Cleaning', bins=20, kde=True, color='blue')\n",
    "plt.xlabel('Length', fontsize=14, fontweight='bold')\n",
    "plt.ylabel('Frequency', fontsize=14, fontweight='bold')\n",
    "plt.title('Distribution of Lengths', fontsize=16, fontweight='bold')\n",
    "plt.show()"
   ]
  },
  {
   "cell_type": "code",
   "execution_count": 11,
   "id": "ae0f380c",
   "metadata": {},
   "outputs": [
    {
     "data": {
      "image/png": "[encoded data removed]",
      "text/plain": [
       "<Figure size 1440x720 with 1 Axes>"
      ]
     },
     "metadata": {
      "needs_background": "light"
     },
     "output_type": "display_data"
    }
   ],
   "source": [
    "#histogram\n",
    "plt.figure(figsize = (20,10))\n",
    "plt.hist(train_data[\"Genre\"], bins=27, color=\"blue\", alpha=0.7)\n",
    "plt.title(\"Genre Distribution\")\n",
    "plt.xlabel(\"Genres\")\n",
    "plt.ylabel(\"Frequency\")\n",
    "plt.xticks(rotation=90, fontweight= \"bold\")\n",
    "plt.show()"
   ]
  },
  {
   "cell_type": "code",
   "execution_count": 12,
   "id": "306b88b3",
   "metadata": {},
   "outputs": [
    {
     "data": {
      "text/plain": [
       "<function matplotlib.pyplot.show(close=None, block=None)>"
      ]
     },
     "execution_count": 12,
     "metadata": {},
     "output_type": "execute_result"
    },
    {
     "data": {
      "image/png": "[encoded data removed]",
      "text/plain": [
       "<Figure size 720x1080 with 1 Axes>"
      ]
     },
     "metadata": {
      "needs_background": "light"
     },
     "output_type": "display_data"
    }
   ],
   "source": [
    "#bargraph\n",
    "genre_counts = train_data[\"Genre\"].value_counts()\n",
    "sorted_genres = genre_counts.sort_values(ascending= True)\n",
    "plt.figure(figsize= (10, 15))\n",
    "sorted_genres.plot(kind= \"barh\", color= \"brown\", alpha= 1)\n",
    "plt.title(\"Genre Distribution\")\n",
    "plt.xlabel(\"Frequency\")\n",
    "plt.ylabel(\"Genres\")\n",
    "plt.show"
   ]
  },
  {
   "cell_type": "code",
   "execution_count": 13,
   "id": "cb8fcb72",
   "metadata": {},
   "outputs": [
    {
     "data": {
      "text/plain": [
       "'genres = train_data[\"Genre\"].unique()\\nplt.figure(figsize= (20, 60))\\n\\nfor i, genre in enumerate(genres, 1):\\n    plt.subplot(14, 2, i)\\n    text_subset = \" \".join(list(train_data[train_data[\"Genre\"] == genre][\"Description\"]))\\n    wordcloud = WordCloud(max_words=300, width=300, height=100, background_color=\"white\").generate(text_subset)\\n    plt.imshow(wordcloud, interpolation= \"bilinear\")\\n    plt.title(f\\'wordcloud for {genre} Genre\\', fontsize=30)\\n    plt.axis(\"off\")\\n    \\n    plt.tight_layout()\\n    plt.show()'"
      ]
     },
     "execution_count": 13,
     "metadata": {},
     "output_type": "execute_result"
    }
   ],
   "source": [
    "#visualize word counts\n",
    "'''genres = train_data[\"Genre\"].unique()\n",
    "plt.figure(figsize= (20, 60))\n",
    "\n",
    "for i, genre in enumerate(genres, 1):\n",
    "    plt.subplot(14, 2, i)\n",
    "    text_subset = \" \".join(list(train_data[train_data[\"Genre\"] == genre][\"Description\"]))\n",
    "    wordcloud = WordCloud(max_words=300, width=300, height=100, background_color=\"white\").generate(text_subset)\n",
    "    plt.imshow(wordcloud, interpolation= \"bilinear\")\n",
    "    plt.title(f'wordcloud for {genre} Genre', fontsize=30)\n",
    "    plt.axis(\"off\")\n",
    "    \n",
    "    plt.tight_layout()\n",
    "    plt.show()'''"
   ]
  },
  {
   "cell_type": "code",
   "execution_count": 14,
   "id": "c5f9f30a",
   "metadata": {},
   "outputs": [
    {
     "data": {
      "text/html": [
       "<div>\n",
       "<style scoped>\n",
       "    .dataframe tbody tr th:only-of-type {\n",
       "        vertical-align: middle;\n",
       "    }\n",
       "\n",
       "    .dataframe tbody tr th {\n",
       "        vertical-align: top;\n",
       "    }\n",
       "\n",
       "    .dataframe thead th {\n",
       "        text-align: right;\n",
       "    }\n",
       "</style>\n",
       "<table border=\"1\" class=\"dataframe\">\n",
       "  <thead>\n",
       "    <tr style=\"text-align: right;\">\n",
       "      <th></th>\n",
       "      <th>Genre</th>\n",
       "      <th>Description</th>\n",
       "      <th>Text_Cleaning</th>\n",
       "      <th>length_Text_Cleaning</th>\n",
       "    </tr>\n",
       "  </thead>\n",
       "  <tbody>\n",
       "    <tr>\n",
       "      <th>0</th>\n",
       "      <td>drama</td>\n",
       "      <td>Listening in to a conversation between his do...</td>\n",
       "      <td>listening conversation doctor parents year old...</td>\n",
       "      <td>383</td>\n",
       "    </tr>\n",
       "    <tr>\n",
       "      <th>1</th>\n",
       "      <td>thriller</td>\n",
       "      <td>A brother and sister with a past incestuous r...</td>\n",
       "      <td>brother sister past incestuous relationship cu...</td>\n",
       "      <td>119</td>\n",
       "    </tr>\n",
       "    <tr>\n",
       "      <th>2</th>\n",
       "      <td>adult</td>\n",
       "      <td>As the bus empties the students for their fie...</td>\n",
       "      <td>bus empties students field trip museum natural...</td>\n",
       "      <td>402</td>\n",
       "    </tr>\n",
       "    <tr>\n",
       "      <th>3</th>\n",
       "      <td>drama</td>\n",
       "      <td>To help their unemployed father make ends mee...</td>\n",
       "      <td>help unemployed father make ends meet edith tw...</td>\n",
       "      <td>745</td>\n",
       "    </tr>\n",
       "    <tr>\n",
       "      <th>4</th>\n",
       "      <td>drama</td>\n",
       "      <td>The film's title refers not only to the un-re...</td>\n",
       "      <td>films title refers un recovered bodies ground ...</td>\n",
       "      <td>405</td>\n",
       "    </tr>\n",
       "  </tbody>\n",
       "</table>\n",
       "</div>"
      ],
      "text/plain": [
       "        Genre                                        Description  \\\n",
       "0      drama    Listening in to a conversation between his do...   \n",
       "1   thriller    A brother and sister with a past incestuous r...   \n",
       "2      adult    As the bus empties the students for their fie...   \n",
       "3      drama    To help their unemployed father make ends mee...   \n",
       "4      drama    The film's title refers not only to the un-re...   \n",
       "\n",
       "                                       Text_Cleaning  length_Text_Cleaning  \n",
       "0  listening conversation doctor parents year old...                   383  \n",
       "1  brother sister past incestuous relationship cu...                   119  \n",
       "2  bus empties students field trip museum natural...                   402  \n",
       "3  help unemployed father make ends meet edith tw...                   745  \n",
       "4  films title refers un recovered bodies ground ...                   405  "
      ]
     },
     "execution_count": 14,
     "metadata": {},
     "output_type": "execute_result"
    }
   ],
   "source": [
    "#Feature Engineering\n",
    "\n",
    "data = train_data.drop(['Title','id'],axis=1)\n",
    "data.head()"
   ]
  },
  {
   "cell_type": "code",
   "execution_count": 15,
   "id": "98165041",
   "metadata": {},
   "outputs": [
    {
     "data": {
      "text/plain": [
       "[' action ',\n",
       " ' adult ',\n",
       " ' adventure ',\n",
       " ' animation ',\n",
       " ' biography ',\n",
       " ' comedy ',\n",
       " ' crime ',\n",
       " ' documentary ',\n",
       " ' drama ',\n",
       " ' family ',\n",
       " ' fantasy ',\n",
       " ' game-show ',\n",
       " ' history ',\n",
       " ' horror ',\n",
       " ' music ',\n",
       " ' musical ',\n",
       " ' mystery ',\n",
       " ' news ',\n",
       " ' reality-tv ',\n",
       " ' romance ',\n",
       " ' sci-fi ',\n",
       " ' short ',\n",
       " ' sport ',\n",
       " ' talk-show ',\n",
       " ' thriller ',\n",
       " ' war ',\n",
       " ' western ']"
      ]
     },
     "execution_count": 15,
     "metadata": {},
     "output_type": "execute_result"
    }
   ],
   "source": [
    "#model selection and training\n",
    "\n",
    "from sklearn.preprocessing import LabelEncoder\n",
    "label_encoder = LabelEncoder()\n",
    "data['Genre_encoded'] = label_encoder.fit_transform(data[\"Genre\"])\n",
    "data[\"Genre_encoded\"]\n",
    "class_names = list(label_encoder.classes_)\n",
    "class_names"
   ]
  },
  {
   "cell_type": "code",
   "execution_count": 16,
   "id": "1e83451a",
   "metadata": {},
   "outputs": [
    {
     "data": {
      "text/html": [
       "<div>\n",
       "<style scoped>\n",
       "    .dataframe tbody tr th:only-of-type {\n",
       "        vertical-align: middle;\n",
       "    }\n",
       "\n",
       "    .dataframe tbody tr th {\n",
       "        vertical-align: top;\n",
       "    }\n",
       "\n",
       "    .dataframe thead th {\n",
       "        text-align: right;\n",
       "    }\n",
       "</style>\n",
       "<table border=\"1\" class=\"dataframe\">\n",
       "  <thead>\n",
       "    <tr style=\"text-align: right;\">\n",
       "      <th></th>\n",
       "      <th>Genre</th>\n",
       "      <th>Description</th>\n",
       "      <th>Text_Cleaning</th>\n",
       "      <th>length_Text_Cleaning</th>\n",
       "      <th>Genre_encoded</th>\n",
       "    </tr>\n",
       "  </thead>\n",
       "  <tbody>\n",
       "    <tr>\n",
       "      <th>0</th>\n",
       "      <td>drama</td>\n",
       "      <td>Listening in to a conversation between his do...</td>\n",
       "      <td>listening conversation doctor parents year old...</td>\n",
       "      <td>383</td>\n",
       "      <td>8</td>\n",
       "    </tr>\n",
       "    <tr>\n",
       "      <th>1</th>\n",
       "      <td>thriller</td>\n",
       "      <td>A brother and sister with a past incestuous r...</td>\n",
       "      <td>brother sister past incestuous relationship cu...</td>\n",
       "      <td>119</td>\n",
       "      <td>24</td>\n",
       "    </tr>\n",
       "    <tr>\n",
       "      <th>2</th>\n",
       "      <td>adult</td>\n",
       "      <td>As the bus empties the students for their fie...</td>\n",
       "      <td>bus empties students field trip museum natural...</td>\n",
       "      <td>402</td>\n",
       "      <td>1</td>\n",
       "    </tr>\n",
       "    <tr>\n",
       "      <th>3</th>\n",
       "      <td>drama</td>\n",
       "      <td>To help their unemployed father make ends mee...</td>\n",
       "      <td>help unemployed father make ends meet edith tw...</td>\n",
       "      <td>745</td>\n",
       "      <td>8</td>\n",
       "    </tr>\n",
       "    <tr>\n",
       "      <th>4</th>\n",
       "      <td>drama</td>\n",
       "      <td>The film's title refers not only to the un-re...</td>\n",
       "      <td>films title refers un recovered bodies ground ...</td>\n",
       "      <td>405</td>\n",
       "      <td>8</td>\n",
       "    </tr>\n",
       "  </tbody>\n",
       "</table>\n",
       "</div>"
      ],
      "text/plain": [
       "        Genre                                        Description  \\\n",
       "0      drama    Listening in to a conversation between his do...   \n",
       "1   thriller    A brother and sister with a past incestuous r...   \n",
       "2      adult    As the bus empties the students for their fie...   \n",
       "3      drama    To help their unemployed father make ends mee...   \n",
       "4      drama    The film's title refers not only to the un-re...   \n",
       "\n",
       "                                       Text_Cleaning  length_Text_Cleaning  \\\n",
       "0  listening conversation doctor parents year old...                   383   \n",
       "1  brother sister past incestuous relationship cu...                   119   \n",
       "2  bus empties students field trip museum natural...                   402   \n",
       "3  help unemployed father make ends meet edith tw...                   745   \n",
       "4  films title refers un recovered bodies ground ...                   405   \n",
       "\n",
       "   Genre_encoded  \n",
       "0              8  \n",
       "1             24  \n",
       "2              1  \n",
       "3              8  \n",
       "4              8  "
      ]
     },
     "execution_count": 16,
     "metadata": {},
     "output_type": "execute_result"
    }
   ],
   "source": [
    "data.head()"
   ]
  },
  {
   "cell_type": "code",
   "execution_count": 17,
   "id": "5599aaa0",
   "metadata": {},
   "outputs": [],
   "source": [
    "# Initialize the TF-IDF vectorizer\n",
    "tfidf_vectorizer = TfidfVectorizer()\n",
    "\n",
    "# Fit and transform the training data\n",
    "X_train = tfidf_vectorizer.fit_transform(train_data['Text_Cleaning'])\n",
    "\n",
    "# Transform the test data\n",
    "X_test = tfidf_vectorizer.transform(test_data['Text_Cleaning'])"
   ]
  },
  {
   "cell_type": "code",
   "execution_count": 18,
   "id": "44ab312f",
   "metadata": {},
   "outputs": [],
   "source": [
    "#split the data to train & test\n",
    "x = X_train\n",
    "y = data[\"Genre\"]\n",
    "\n",
    "x_train, x_test, y_train, y_test = train_test_split(x, y, test_size = 0.2)"
   ]
  },
  {
   "cell_type": "code",
   "execution_count": null,
   "id": "2f14dcfa",
   "metadata": {},
   "outputs": [],
   "source": []
  },
  {
   "cell_type": "code",
   "execution_count": 19,
   "id": "aafe04a0",
   "metadata": {},
   "outputs": [
    {
     "name": "stdout",
     "output_type": "stream",
     "text": [
      "Model score on training data 0.4661179128911023\n",
      "               precision    recall  f1-score   support\n",
      "\n",
      "      action        0.00      0.00      0.00         0\n",
      "       adult        0.00      0.00      0.00         0\n",
      "   adventure        0.00      0.00      0.00         0\n",
      "   animation        0.00      0.00      0.00         0\n",
      "   biography        0.00      0.00      0.00         0\n",
      "      comedy        0.04      0.69      0.08        89\n",
      "       crime        0.00      0.00      0.00         0\n",
      " documentary        0.90      0.54      0.68      4453\n",
      "       drama        0.88      0.38      0.53      6301\n",
      "      family        0.00      0.00      0.00         0\n",
      "     fantasy        0.00      0.00      0.00         0\n",
      "   game-show        0.00      0.00      0.00         0\n",
      "     history        0.00      0.00      0.00         0\n",
      "      horror        0.00      0.00      0.00         0\n",
      "       music        0.00      0.00      0.00         0\n",
      "     musical        0.00      0.00      0.00         0\n",
      "     mystery        0.00      0.00      0.00         0\n",
      "        news        0.00      0.00      0.00         0\n",
      "  reality-tv        0.00      0.00      0.00         0\n",
      "     romance        0.00      0.00      0.00         0\n",
      "      sci-fi        0.00      0.00      0.00         0\n",
      "       short        0.00      0.00      0.00         0\n",
      "       sport        0.00      0.00      0.00         0\n",
      "   talk-show        0.00      0.00      0.00         0\n",
      "    thriller        0.00      0.00      0.00         0\n",
      "         war        0.00      0.00      0.00         0\n",
      "     western        0.00      0.00      0.00         0\n",
      "\n",
      "     accuracy                           0.45     10843\n",
      "    macro avg       0.07      0.06      0.05     10843\n",
      " weighted avg       0.88      0.45      0.59     10843\n",
      "\n",
      "Validation Accuracy 0.4507055243013926\n"
     ]
    },
    {
     "name": "stderr",
     "output_type": "stream",
     "text": [
      "C:\\Users\\sujal\\anaconda3\\lib\\site-packages\\sklearn\\metrics\\_classification.py:1318: UndefinedMetricWarning: Recall and F-score are ill-defined and being set to 0.0 in labels with no true samples. Use `zero_division` parameter to control this behavior.\n",
      "  _warn_prf(average, modifier, msg_start, len(result))\n",
      "C:\\Users\\sujal\\anaconda3\\lib\\site-packages\\sklearn\\metrics\\_classification.py:1318: UndefinedMetricWarning: Recall and F-score are ill-defined and being set to 0.0 in labels with no true samples. Use `zero_division` parameter to control this behavior.\n",
      "  _warn_prf(average, modifier, msg_start, len(result))\n",
      "C:\\Users\\sujal\\anaconda3\\lib\\site-packages\\sklearn\\metrics\\_classification.py:1318: UndefinedMetricWarning: Recall and F-score are ill-defined and being set to 0.0 in labels with no true samples. Use `zero_division` parameter to control this behavior.\n",
      "  _warn_prf(average, modifier, msg_start, len(result))\n"
     ]
    }
   ],
   "source": [
    "#multinomialNB with TfidfVectorizer\n",
    "mnb = MultinomialNB()\n",
    "mnb.fit(x_train, y_train)\n",
    "print(\"Model score on training data\", mnb.score(x_train,y_train))\n",
    "#print(\"Model score on test data\", mnb.score(X_test, y_test))\n",
    "y_pred = mnb.predict(x_test)\n",
    "print(classification_report(y_pred, y_test))\n",
    "accuracy = accuracy_score(y_test, y_pred)\n",
    "print(\"Validation Accuracy\", accuracy)"
   ]
  },
  {
   "cell_type": "code",
   "execution_count": 20,
   "id": "abbe72b4",
   "metadata": {},
   "outputs": [],
   "source": [
    "#make prediction on test data\n",
    "X_test_prediction = mnb.predict(X_test)\n",
    "test_data[\"Prediction_Genre\"] = X_test_prediction\n"
   ]
  },
  {
   "cell_type": "code",
   "execution_count": 21,
   "id": "8b04e76f",
   "metadata": {
    "scrolled": true
   },
   "outputs": [
    {
     "name": "stdout",
     "output_type": "stream",
     "text": [
      "          id                             Genre  \\\n",
      "0          1             Edgar's Lunch (1998)    \n",
      "1          2         La guerra de papá (1977)    \n",
      "2          3      Off the Beaten Track (2010)    \n",
      "3          4           Meu Amigo Hindu (2015)    \n",
      "4          5                Er nu zhai (1955)    \n",
      "...      ...                               ...   \n",
      "54195  54196   \"Tales of Light & Dark\" (2013)    \n",
      "54196  54197      Der letzte Mohikaner (1965)    \n",
      "54197  54198              Oliver Twink (2007)    \n",
      "54198  54199                Slipstream (1973)    \n",
      "54199  54200        Curitiba Zero Grau (2010)    \n",
      "\n",
      "                                             Description  \\\n",
      "0       L.R. Brane loves his life - his car, his apar...   \n",
      "1       Spain, March 1964: Quico is a very naughty ch...   \n",
      "2       One year in the life of Albin and his family ...   \n",
      "3       His father has died, he hasn't spoken with hi...   \n",
      "4       Before he was known internationally as a mart...   \n",
      "...                                                  ...   \n",
      "54195   Covering multiple genres, Tales of Light & Da...   \n",
      "54196   As Alice and Cora Munro attempt to find their...   \n",
      "54197   A movie 169 years in the making. Oliver Twist...   \n",
      "54198   Popular, but mysterious rock D.J Mike Mallard...   \n",
      "54199   Curitiba is a city in movement, with rhythms ...   \n",
      "\n",
      "                                           Text_Cleaning Prediction_Genre  \n",
      "0      r brane loves life car apartment job especiall...           drama   \n",
      "1      spain march quico naughty child three belongin...           drama   \n",
      "2      one year life albin family shepherds north tra...     documentary   \n",
      "3      father died hasnt spoken brother years serious...           drama   \n",
      "4      known internationally martial arts superstar b...           drama   \n",
      "...                                                  ...              ...  \n",
      "54195  covering multiple genres tales light dark anth...           drama   \n",
      "54196  alice cora munro attempt find father british o...           drama   \n",
      "54197  movie years making oliver twist artful dodger ...           drama   \n",
      "54198  popular mysterious rock j mike mallard askew b...           drama   \n",
      "54199  curitiba city movement rhythms different pulsa...     documentary   \n",
      "\n",
      "[54200 rows x 5 columns]\n"
     ]
    }
   ],
   "source": [
    "test_data.to_csv(\"Prediction_Genre.csv\", index = False)\n",
    "print(test_data)"
   ]
  },
  {
   "cell_type": "markdown",
   "id": "ad84ea34",
   "metadata": {},
   "source": [
    "Done"
   ]
  },
  {
   "cell_type": "code",
   "execution_count": null,
   "id": "291dc2a8",
   "metadata": {},
   "outputs": [],
   "source": []
  }
 ],
 "metadata": {
  "kernelspec": {
   "display_name": "Python 3 (ipykernel)",
   "language": "python",
   "name": "python3"
  },
  "language_info": {
   "codemirror_mode": {
    "name": "ipython",
    "version": 3
   },
   "file_extension": ".py",
   "mimetype": "text/x-python",
   "name": "python",
   "nbconvert_exporter": "python",
   "pygments_lexer": "ipython3",
   "version": "3.9.12"
  }
 },
 "nbformat": 4,
 "nbformat_minor": 5
}
